{
 "cells": [
  {
   "cell_type": "markdown",
   "id": "db76bffc-3f3d-4199-9764-a5e265008036",
   "metadata": {},
   "source": [
    "## TORCH BACKGROUND"
   ]
  },
  {
   "cell_type": "markdown",
   "id": "8aaf3216-2b44-491e-ad8e-7adfbd8699ed",
   "metadata": {},
   "source": [
    "Consulter le lien là quand il faut\n",
    "https://python.doctor/page-expressions-regulieres-regular-python"
   ]
  },
  {
   "cell_type": "code",
   "execution_count": 131,
   "id": "45afdd48-1526-4176-9e25-5513b299c964",
   "metadata": {},
   "outputs": [],
   "source": [
    "import pandas as pd \n",
    "eng_data = pd.read_csv(\"C:/Users/justi/Downloads/IMDB Dataset.csv\")"
   ]
  },
  {
   "cell_type": "code",
   "execution_count": 105,
   "id": "75a622f3-c2de-4f31-ae11-c66c631ea078",
   "metadata": {},
   "outputs": [
    {
     "data": {
      "text/plain": [
       "(50000, 2)"
      ]
     },
     "execution_count": 105,
     "metadata": {},
     "output_type": "execute_result"
    }
   ],
   "source": [
    "eng_data.shape"
   ]
  },
  {
   "cell_type": "code",
   "execution_count": 106,
   "id": "7461db28-47c3-494d-abbc-ee5863890bfd",
   "metadata": {},
   "outputs": [
    {
     "data": {
      "text/html": [
       "<div>\n",
       "<style scoped>\n",
       "    .dataframe tbody tr th:only-of-type {\n",
       "        vertical-align: middle;\n",
       "    }\n",
       "\n",
       "    .dataframe tbody tr th {\n",
       "        vertical-align: top;\n",
       "    }\n",
       "\n",
       "    .dataframe thead th {\n",
       "        text-align: right;\n",
       "    }\n",
       "</style>\n",
       "<table border=\"1\" class=\"dataframe\">\n",
       "  <thead>\n",
       "    <tr style=\"text-align: right;\">\n",
       "      <th></th>\n",
       "      <th>review</th>\n",
       "      <th>sentiment</th>\n",
       "    </tr>\n",
       "  </thead>\n",
       "  <tbody>\n",
       "    <tr>\n",
       "      <th>0</th>\n",
       "      <td>One of the other reviewers has mentioned that ...</td>\n",
       "      <td>positive</td>\n",
       "    </tr>\n",
       "    <tr>\n",
       "      <th>1</th>\n",
       "      <td>A wonderful little production. &lt;br /&gt;&lt;br /&gt;The...</td>\n",
       "      <td>positive</td>\n",
       "    </tr>\n",
       "    <tr>\n",
       "      <th>2</th>\n",
       "      <td>I thought this was a wonderful way to spend ti...</td>\n",
       "      <td>positive</td>\n",
       "    </tr>\n",
       "    <tr>\n",
       "      <th>3</th>\n",
       "      <td>Basically there's a family where a little boy ...</td>\n",
       "      <td>negative</td>\n",
       "    </tr>\n",
       "    <tr>\n",
       "      <th>4</th>\n",
       "      <td>Petter Mattei's \"Love in the Time of Money\" is...</td>\n",
       "      <td>positive</td>\n",
       "    </tr>\n",
       "  </tbody>\n",
       "</table>\n",
       "</div>"
      ],
      "text/plain": [
       "                                              review sentiment\n",
       "0  One of the other reviewers has mentioned that ...  positive\n",
       "1  A wonderful little production. <br /><br />The...  positive\n",
       "2  I thought this was a wonderful way to spend ti...  positive\n",
       "3  Basically there's a family where a little boy ...  negative\n",
       "4  Petter Mattei's \"Love in the Time of Money\" is...  positive"
      ]
     },
     "execution_count": 106,
     "metadata": {},
     "output_type": "execute_result"
    }
   ],
   "source": [
    "eng_data.head(5)"
   ]
  },
  {
   "cell_type": "code",
   "execution_count": 107,
   "id": "a9fd6e87-63d9-43ca-a87d-495d401131da",
   "metadata": {},
   "outputs": [
    {
     "name": "stdout",
     "output_type": "stream",
     "text": [
      "Requirement already satisfied: nltk in c:\\users\\justi\\anaconda3\\envs\\myenv2\\lib\\site-packages (3.7)\n",
      "Requirement already satisfied: joblib in c:\\users\\justi\\anaconda3\\envs\\myenv2\\lib\\site-packages (from nltk) (1.1.0)\n",
      "Requirement already satisfied: tqdm in c:\\users\\justi\\anaconda3\\envs\\myenv2\\lib\\site-packages (from nltk) (4.64.0)\n",
      "Requirement already satisfied: regex>=2021.8.3 in c:\\users\\justi\\anaconda3\\envs\\myenv2\\lib\\site-packages (from nltk) (2022.3.15)\n",
      "Requirement already satisfied: click in c:\\users\\justi\\anaconda3\\envs\\myenv2\\lib\\site-packages (from nltk) (8.1.2)\n",
      "Requirement already satisfied: colorama in c:\\users\\justi\\anaconda3\\envs\\myenv2\\lib\\site-packages (from click->nltk) (0.4.4)\n"
     ]
    }
   ],
   "source": [
    "# !pip install nltk"
   ]
  },
  {
   "cell_type": "code",
   "execution_count": 108,
   "id": "0f94681f-05a8-4864-a377-be245c939a41",
   "metadata": {},
   "outputs": [],
   "source": [
    "sentence = \" xoxo love xoxo[[[[]]]]\"\n",
    "sentence2 = sentence.strip(\" xoe\")"
   ]
  },
  {
   "cell_type": "code",
   "execution_count": 109,
   "id": "bb30c9ca-b80d-4e1f-b6d5-f79e68ba4fd8",
   "metadata": {},
   "outputs": [
    {
     "name": "stdout",
     "output_type": "stream",
     "text": [
      " xoxo love xoxo[[[[]]]] love xoxo[[[[]]]]\n"
     ]
    }
   ],
   "source": [
    "print(sentence, sentence2)"
   ]
  },
  {
   "cell_type": "code",
   "execution_count": 110,
   "id": "031745fa-fe22-45e5-ad8b-90142654ee5d",
   "metadata": {},
   "outputs": [
    {
     "data": {
      "text/plain": [
       "' xoxo love xoxo]]]'"
      ]
     },
     "execution_count": 110,
     "metadata": {},
     "output_type": "execute_result"
    }
   ],
   "source": [
    "re.sub('\\[[^]]*\\]','', sentence)"
   ]
  },
  {
   "cell_type": "code",
   "execution_count": 111,
   "id": "0dcb048c-281b-4867-8dac-f7342c71e5cd",
   "metadata": {},
   "outputs": [],
   "source": [
    "from bs4 import BeautifulSoup\n",
    "from nltk.tokenize.toktok import ToktokTokenizer\n",
    "import re \n",
    "import nltk"
   ]
  },
  {
   "cell_type": "code",
   "execution_count": 113,
   "id": "1ee77e77-6f25-446e-9e36-701a7bb27734",
   "metadata": {},
   "outputs": [],
   "source": [
    "# nltk.download('stopwords')"
   ]
  },
  {
   "cell_type": "code",
   "execution_count": 114,
   "id": "e47ae38b-6010-408d-b2c8-6d8b0697102b",
   "metadata": {},
   "outputs": [
    {
     "name": "stdout",
     "output_type": "stream",
     "text": [
      "['i', 'me', 'my', 'myself', 'we', 'our', 'ours', 'ourselves', 'you', \"you're\", \"you've\", \"you'll\", \"you'd\", 'your', 'yours', 'yourself', 'yourselves', 'he', 'him', 'his', 'himself', 'she', \"she's\", 'her', 'hers', 'herself', 'it', \"it's\", 'its', 'itself', 'they', 'them', 'their', 'theirs', 'themselves', 'what', 'which', 'who', 'whom', 'this', 'that', \"that'll\", 'these', 'those', 'am', 'is', 'are', 'was', 'were', 'be', 'been', 'being', 'have', 'has', 'had', 'having', 'do', 'does', 'did', 'doing', 'a', 'an', 'the', 'and', 'but', 'if', 'or', 'because', 'as', 'until', 'while', 'of', 'at', 'by', 'for', 'with', 'about', 'against', 'between', 'into', 'through', 'during', 'before', 'after', 'above', 'below', 'to', 'from', 'up', 'down', 'in', 'out', 'on', 'off', 'over', 'under', 'again', 'further', 'then', 'once', 'here', 'there', 'when', 'where', 'why', 'how', 'all', 'any', 'both', 'each', 'few', 'more', 'most', 'other', 'some', 'such', 'no', 'nor', 'not', 'only', 'own', 'same', 'so', 'than', 'too', 'very', 's', 't', 'can', 'will', 'just', 'don', \"don't\", 'should', \"should've\", 'now', 'd', 'll', 'm', 'o', 're', 've', 'y', 'ain', 'aren', \"aren't\", 'couldn', \"couldn't\", 'didn', \"didn't\", 'doesn', \"doesn't\", 'hadn', \"hadn't\", 'hasn', \"hasn't\", 'haven', \"haven't\", 'isn', \"isn't\", 'ma', 'mightn', \"mightn't\", 'mustn', \"mustn't\", 'needn', \"needn't\", 'shan', \"shan't\", 'shouldn', \"shouldn't\", 'wasn', \"wasn't\", 'weren', \"weren't\", 'won', \"won't\", 'wouldn', \"wouldn't\"]\n"
     ]
    }
   ],
   "source": [
    "print(nltk.corpus.stopwords.words('english'))"
   ]
  },
  {
   "cell_type": "code",
   "execution_count": 115,
   "id": "97b8a45e-6f42-4f15-ae47-5f56b3af2bab",
   "metadata": {},
   "outputs": [],
   "source": [
    "sent = \"the The foot ball \""
   ]
  },
  {
   "cell_type": "code",
   "execution_count": 116,
   "id": "708ff6cf-33b1-4b93-ba65-ed00151704d2",
   "metadata": {},
   "outputs": [],
   "source": [
    "sent_v = nltk.tokenize.word_tokenize(sent)"
   ]
  },
  {
   "cell_type": "code",
   "execution_count": 117,
   "id": "78efb8bd-8346-44b9-bf41-4a17f1a14e14",
   "metadata": {},
   "outputs": [
    {
     "data": {
      "text/plain": [
       "['the', 'The', 'foot', 'ball']"
      ]
     },
     "execution_count": 117,
     "metadata": {},
     "output_type": "execute_result"
    }
   ],
   "source": [
    "sent_v"
   ]
  },
  {
   "cell_type": "code",
   "execution_count": 118,
   "id": "5dd35aff-7029-44f0-9f39-9e852fad0c4d",
   "metadata": {},
   "outputs": [
    {
     "data": {
      "text/plain": [
       "['the', 'The', 'foot', 'ball']"
      ]
     },
     "execution_count": 118,
     "metadata": {},
     "output_type": "execute_result"
    }
   ],
   "source": [
    "sent_d"
   ]
  },
  {
   "cell_type": "code",
   "execution_count": 119,
   "id": "272cfb15-f4d2-484f-98b3-2f67f7ca7cd0",
   "metadata": {},
   "outputs": [],
   "source": [
    "sent_d = sent.strip()\n",
    "sent_d = nltk.toktok.ToktokTokenizer().tokenize(sent_d)"
   ]
  },
  {
   "cell_type": "code",
   "execution_count": 120,
   "id": "9bd76ca2-64a6-4c08-8d93-7b6edb67eba9",
   "metadata": {},
   "outputs": [],
   "source": [
    "filter = [var for var in sent_d if var not in stopword_list]"
   ]
  },
  {
   "cell_type": "code",
   "execution_count": 121,
   "id": "c6823211-64f2-40de-a911-66a1994947ae",
   "metadata": {},
   "outputs": [
    {
     "data": {
      "text/plain": [
       "['The', 'foot', 'ball']"
      ]
     },
     "execution_count": 121,
     "metadata": {},
     "output_type": "execute_result"
    }
   ],
   "source": [
    "filter"
   ]
  },
  {
   "cell_type": "code",
   "execution_count": 130,
   "id": "b94e017f-f742-4a63-a905-bb845bef3ae3",
   "metadata": {},
   "outputs": [],
   "source": [
    "def strip_html(text):\n",
    "    soup = BeautifulSoup(text, \"html.parser\")\n",
    "    return soup.get_text()\n",
    "\n",
    "def remove_between_square_brackets(text):\n",
    "    return re.sub('\\[[^]]*\\]', '', text)\n",
    "\n",
    "def remove_special_characters(text, remove_digits = True):\n",
    "    pattern = r'[^a-zA-z0-9\\s]'\n",
    "    text = re.sub(pattern, '', text)\n",
    "    return text\n",
    "\n",
    "def remove_stopwords(text, is_lower_case = False):\n",
    "    tokenizer = ToktokTokenizer()\n",
    "    stopword_list = nltk.corpus.stopwords.words('english')\n",
    "    tokens = tokenizer.tokenize(text)\n",
    "    tokens = [token.strip() for token in tokens]\n",
    "    \n",
    "    if is_lower_case: \n",
    "        filtered_tokens =  [token for token in tokens if token not in stopword_list]\n",
    "    else:\n",
    "        filtered_tokens = [token for token in tokens if token.lower() not in stopword_list]\n",
    "    filtered_text = ' '.join(filtered_tokens)\n",
    "    \n",
    "    return filtered_text\n",
    "\n",
    "def text_cleaning(text):\n",
    "    text = strip_html(text)\n",
    "    text = remove_between_square_brackets(text)\n",
    "    text = remove_special_characters(text, remove_digits = True)\n",
    "    text = remove_stopwords(text, is_lower_case = False)\n",
    "    return text\n",
    "    \n"
   ]
  },
  {
   "cell_type": "code",
   "execution_count": 123,
   "id": "af326b96-3c40-4bdf-8c49-d66c0e7b47d3",
   "metadata": {},
   "outputs": [],
   "source": [
    "stopword_list = nltk.corpus.stopwords.words('english')"
   ]
  },
  {
   "cell_type": "code",
   "execution_count": 124,
   "id": "e4d14607-ff4c-41c5-80aa-2ee94fdcd145",
   "metadata": {},
   "outputs": [
    {
     "data": {
      "text/plain": [
       "'I thought this was a wonderful way to spend time on a too hot summer weekend, sitting in the air conditioned theater and watching a light-hearted comedy. The plot is simplistic, but the dialogue is witty and the characters are likable (even the well bread suspected serial killer). While some may be disappointed when they realize this is not Match Point 2: Risk Addiction, I thought it was proof that Woody Allen is still fully in control of the style many of us have grown to love.<br /><br />This was the most I\\'d laughed at one of Woody\\'s comedies in years (dare I say a decade?). While I\\'ve never been impressed with Scarlet Johanson, in this she managed to tone down her \"sexy\" image and jumped right into a average, but spirited young woman.<br /><br />This may not be the crown jewel of his career, but it was wittier than \"Devil Wears Prada\" and more interesting than \"Superman\" a great comedy to go see with friends.'"
      ]
     },
     "execution_count": 124,
     "metadata": {},
     "output_type": "execute_result"
    }
   ],
   "source": [
    "eng_data.review[2]"
   ]
  },
  {
   "cell_type": "code",
   "execution_count": 125,
   "id": "8d007372-b10f-4dad-9e9d-882a1ef11622",
   "metadata": {},
   "outputs": [
    {
     "data": {
      "text/plain": [
       "'I thought this was a wonderful way to spend time on a too hot summer weekend, sitting in the air conditioned theater and watching a light-hearted comedy. The plot is simplistic, but the dialogue is witty and the characters are likable (even the well bread suspected serial killer). While some may be disappointed when they realize this is not Match Point 2: Risk Addiction, I thought it was proof that Woody Allen is still fully in control of the style many of us have grown to love.This was the most I\\'d laughed at one of Woody\\'s comedies in years (dare I say a decade?). While I\\'ve never been impressed with Scarlet Johanson, in this she managed to tone down her \"sexy\" image and jumped right into a average, but spirited young woman.This may not be the crown jewel of his career, but it was wittier than \"Devil Wears Prada\" and more interesting than \"Superman\" a great comedy to go see with friends.'"
      ]
     },
     "execution_count": 125,
     "metadata": {},
     "output_type": "execute_result"
    }
   ],
   "source": [
    "strip_html(eng_data.review[2])"
   ]
  },
  {
   "cell_type": "code",
   "execution_count": 126,
   "id": "1a97e7da-a701-4520-9245-eec777ed9cf4",
   "metadata": {},
   "outputs": [
    {
     "data": {
      "text/plain": [
       "'I thought this was a wonderful way to spend time on a too hot summer weekend, sitting in the air conditioned theater and watching a light-hearted comedy. The plot is simplistic, but the dialogue is witty and the characters are likable (even the well bread suspected serial killer). While some may be disappointed when they realize this is not Match Point 2: Risk Addiction, I thought it was proof that Woody Allen is still fully in control of the style many of us have grown to love.<br /><br />This was the most I\\'d laughed at one of Woody\\'s comedies in years (dare I say a decade?). While I\\'ve never been impressed with Scarlet Johanson, in this she managed to tone down her \"sexy\" image and jumped right into a average, but spirited young woman.<br /><br />This may not be the crown jewel of his career, but it was wittier than \"Devil Wears Prada\" and more interesting than \"Superman\" a great comedy to go see with friends.'"
      ]
     },
     "execution_count": 126,
     "metadata": {},
     "output_type": "execute_result"
    }
   ],
   "source": [
    "remove_between_square_brackets(eng_data.review[2])"
   ]
  },
  {
   "cell_type": "code",
   "execution_count": 132,
   "id": "cf173de1-3e84-4eb3-8a0f-07315e2a722e",
   "metadata": {},
   "outputs": [],
   "source": [
    "eng_data[\"review\"] = eng_data[\"review\"].apply(text_cleaning)"
   ]
  },
  {
   "cell_type": "code",
   "execution_count": 133,
   "id": "8e88a808-08f2-4630-989f-c5e7cb0933c6",
   "metadata": {},
   "outputs": [
    {
     "data": {
      "text/plain": [
       "'wonderful little production filming technique unassuming oldtimeBBC fashion gives comforting sometimes discomforting sense realism entire piece actors extremely well chosen Michael Sheen got polari voices pat truly see seamless editing guided references Williams diary entries well worth watching terrificly written performed piece masterful production one great masters comedy life realism really comes home little things fantasy guard rather use traditional dream techniques remains solid disappears plays knowledge senses particularly scenes concerning Orton Halliwell sets particularly flat Halliwells murals decorating every surface terribly well done'"
      ]
     },
     "execution_count": 133,
     "metadata": {},
     "output_type": "execute_result"
    }
   ],
   "source": [
    "eng_data[\"review\"][1]"
   ]
  },
  {
   "cell_type": "code",
   "execution_count": 134,
   "id": "9a0d085a-b690-444d-89de-8790fc116566",
   "metadata": {},
   "outputs": [],
   "source": [
    "# nltk.download('punkt')"
   ]
  },
  {
   "cell_type": "code",
   "execution_count": 135,
   "id": "bbdbfa3c-a38d-474e-a977-eae3c45a52d0",
   "metadata": {},
   "outputs": [],
   "source": [
    "from nltk.tokenize import word_tokenize\n",
    "vocab_lst = [word_tokenize(x) for x in eng_data[\"review\"]]"
   ]
  },
  {
   "cell_type": "code",
   "execution_count": 137,
   "id": "13e86192-640d-4205-87b3-0f535a3e847d",
   "metadata": {},
   "outputs": [
    {
     "data": {
      "text/plain": [
       "[('movie', 82310),\n",
       " ('film', 73514),\n",
       " ('one', 46301),\n",
       " ('like', 37483),\n",
       " ('good', 27403),\n",
       " ('would', 23751),\n",
       " ('time', 22741),\n",
       " ('really', 22207),\n",
       " ('see', 21765),\n",
       " ('even', 21494)]"
      ]
     },
     "execution_count": 137,
     "metadata": {},
     "output_type": "execute_result"
    }
   ],
   "source": [
    "from collections import Counter\n",
    "vocab_lst2 = [y for x in vocab_lst for y in x]\n",
    "Counter(vocab_lst2).most_common(10)"
   ]
  },
  {
   "cell_type": "code",
   "execution_count": 161,
   "id": "5c184a25-6ffe-42dc-973f-2dbb7b4ec801",
   "metadata": {},
   "outputs": [],
   "source": [
    "# [x for x in Counter(vocab_lst2).keys()]\n",
    "b = {word:index for index, word in enumerate(Counter(vocab_lst2).keys())}"
   ]
  },
  {
   "cell_type": "code",
   "execution_count": 164,
   "id": "a7da43ab-2a1a-466f-b716-d62deae1d352",
   "metadata": {},
   "outputs": [],
   "source": [
    "be = [[b[word] for word in y] for y in vocab_lst]"
   ]
  },
  {
   "cell_type": "code",
   "execution_count": 165,
   "id": "9a5d92f3-9d4c-480d-b0fb-d5bcb6e85c6b",
   "metadata": {},
   "outputs": [
    {
     "data": {
      "text/plain": [
       "[624,\n",
       " 625,\n",
       " 184,\n",
       " 626,\n",
       " 586,\n",
       " 627,\n",
       " 628,\n",
       " 102,\n",
       " 629,\n",
       " 630,\n",
       " 194,\n",
       " 631,\n",
       " 632,\n",
       " 13,\n",
       " 633,\n",
       " 92,\n",
       " 537,\n",
       " 299,\n",
       " 634,\n",
       " 635,\n",
       " 398,\n",
       " 636,\n",
       " 629,\n",
       " 537,\n",
       " 637,\n",
       " 638,\n",
       " 639,\n",
       " 310,\n",
       " 640,\n",
       " 78,\n",
       " 641,\n",
       " 92,\n",
       " 284,\n",
       " 233,\n",
       " 642,\n",
       " 643,\n",
       " 644,\n",
       " 645,\n",
       " 310,\n",
       " 81,\n",
       " 84,\n",
       " 646,\n",
       " 647,\n",
       " 648,\n",
       " 649,\n",
       " 325,\n",
       " 650,\n",
       " 651,\n",
       " 652,\n",
       " 373,\n",
       " 653]"
      ]
     },
     "execution_count": 165,
     "metadata": {},
     "output_type": "execute_result"
    }
   ],
   "source": [
    "be[10]"
   ]
  },
  {
   "cell_type": "code",
   "execution_count": 146,
   "id": "d9c0b2b4-bd91-42bc-b5fb-d294b8f39350",
   "metadata": {},
   "outputs": [],
   "source": [
    "vocab_lst3 = list(Counter(vocab_lst2).keys())"
   ]
  },
  {
   "cell_type": "code",
   "execution_count": 148,
   "id": "224d4482-ba4b-44fd-8f42-05a714651916",
   "metadata": {},
   "outputs": [],
   "source": [
    "vocab_to_index = {word : index for index, word in enumerate(vocab_lst3)}\n",
    "index_to_vocab = {index : word for index, word in enumerate(vocab_lst3)}"
   ]
  },
  {
   "cell_type": "code",
   "execution_count": 149,
   "id": "4b7ac7e3-a13a-4dd4-94c2-c19b25f67ea4",
   "metadata": {},
   "outputs": [
    {
     "data": {
      "text/plain": [
       "256140"
      ]
     },
     "execution_count": 149,
     "metadata": {},
     "output_type": "execute_result"
    }
   ],
   "source": [
    "len(vocab_to_index)"
   ]
  },
  {
   "cell_type": "code",
   "execution_count": 150,
   "id": "9312842e-7976-4170-b186-d6d0b5ee005e",
   "metadata": {},
   "outputs": [],
   "source": [
    "result = [[vocab_to_index[word] for word in y] for y in vocab_lst]"
   ]
  },
  {
   "cell_type": "code",
   "execution_count": 152,
   "id": "f544934c-6e3d-4bdd-9cd4-4e4ac0035294",
   "metadata": {},
   "outputs": [
    {
     "data": {
      "text/plain": [
       "[624,\n",
       " 625,\n",
       " 184,\n",
       " 626,\n",
       " 586,\n",
       " 627,\n",
       " 628,\n",
       " 102,\n",
       " 629,\n",
       " 630,\n",
       " 194,\n",
       " 631,\n",
       " 632,\n",
       " 13,\n",
       " 633,\n",
       " 92,\n",
       " 537,\n",
       " 299,\n",
       " 634,\n",
       " 635,\n",
       " 398,\n",
       " 636,\n",
       " 629,\n",
       " 537,\n",
       " 637,\n",
       " 638,\n",
       " 639,\n",
       " 310,\n",
       " 640,\n",
       " 78,\n",
       " 641,\n",
       " 92,\n",
       " 284,\n",
       " 233,\n",
       " 642,\n",
       " 643,\n",
       " 644,\n",
       " 645,\n",
       " 310,\n",
       " 81,\n",
       " 84,\n",
       " 646,\n",
       " 647,\n",
       " 648,\n",
       " 649,\n",
       " 325,\n",
       " 650,\n",
       " 651,\n",
       " 652,\n",
       " 373,\n",
       " 653]"
      ]
     },
     "execution_count": 152,
     "metadata": {},
     "output_type": "execute_result"
    }
   ],
   "source": [
    "result[10]"
   ]
  },
  {
   "cell_type": "code",
   "execution_count": 151,
   "id": "bf980ec6-34e9-44da-ae2c-f164c400d3ea",
   "metadata": {},
   "outputs": [
    {
     "data": {
      "text/plain": [
       "['Phil',\n",
       " 'Alien',\n",
       " 'one',\n",
       " 'quirky',\n",
       " 'films',\n",
       " 'humour',\n",
       " 'based',\n",
       " 'around',\n",
       " 'oddness',\n",
       " 'everything',\n",
       " 'rather',\n",
       " 'actual',\n",
       " 'punchlinesAt',\n",
       " 'first',\n",
       " 'odd',\n",
       " 'pretty',\n",
       " 'funny',\n",
       " 'movie',\n",
       " 'progressed',\n",
       " 'didnt',\n",
       " 'find',\n",
       " 'jokes',\n",
       " 'oddness',\n",
       " 'funny',\n",
       " 'anymoreIts',\n",
       " 'low',\n",
       " 'budget',\n",
       " 'film',\n",
       " 'thats',\n",
       " 'never',\n",
       " 'problem',\n",
       " 'pretty',\n",
       " 'interesting',\n",
       " 'characters',\n",
       " 'eventually',\n",
       " 'lost',\n",
       " 'interestI',\n",
       " 'imagine',\n",
       " 'film',\n",
       " 'would',\n",
       " 'appeal',\n",
       " 'stoner',\n",
       " 'currently',\n",
       " 'partakingFor',\n",
       " 'something',\n",
       " 'similar',\n",
       " 'better',\n",
       " 'try',\n",
       " 'Brother',\n",
       " 'another',\n",
       " 'planet']"
      ]
     },
     "execution_count": 151,
     "metadata": {},
     "output_type": "execute_result"
    }
   ],
   "source": [
    "vocab_lst[10]"
   ]
  },
  {
   "cell_type": "code",
   "execution_count": null,
   "id": "92cf7285-46aa-41b3-8b6f-70f54890047f",
   "metadata": {},
   "outputs": [],
   "source": []
  }
 ],
 "metadata": {
  "kernelspec": {
   "display_name": "Python 3 (ipykernel)",
   "language": "python",
   "name": "python3"
  },
  "language_info": {
   "codemirror_mode": {
    "name": "ipython",
    "version": 3
   },
   "file_extension": ".py",
   "mimetype": "text/x-python",
   "name": "python",
   "nbconvert_exporter": "python",
   "pygments_lexer": "ipython3",
   "version": "3.9.11"
  }
 },
 "nbformat": 4,
 "nbformat_minor": 5
}

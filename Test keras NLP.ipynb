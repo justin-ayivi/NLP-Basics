{
 "cells": [
  {
   "cell_type": "code",
   "execution_count": 7,
   "id": "ea0b2786",
   "metadata": {},
   "outputs": [],
   "source": [
    "from keras.datasets import imdb\n",
    "from keras.preprocessing import sequence"
   ]
  },
  {
   "cell_type": "code",
   "execution_count": 8,
   "id": "8024379a",
   "metadata": {},
   "outputs": [],
   "source": [
    "max_features = 10000\n",
    "maxlen = 500 \n",
    "batch_size = 32"
   ]
  },
  {
   "cell_type": "code",
   "execution_count": 13,
   "id": "424bbcab",
   "metadata": {},
   "outputs": [
    {
     "name": "stdout",
     "output_type": "stream",
     "text": [
      "25000 train_sequences\n",
      "25000 test_sequences\n"
     ]
    }
   ],
   "source": [
    "(input_train, y_train), (input_test, y_test) = imdb.load_data(num_words = max_features)\n",
    "print(len(input_train), 'train_sequences')\n",
    "print(len(input_test), 'test_sequences')"
   ]
  },
  {
   "cell_type": "code",
   "execution_count": 16,
   "id": "60c41ed3",
   "metadata": {},
   "outputs": [
    {
     "name": "stdout",
     "output_type": "stream",
     "text": [
      "input_train shape : (25000, 500)\n",
      "input_test shape : (25000, 500)\n"
     ]
    }
   ],
   "source": [
    "input_train = sequence.pad_sequences(input_train, maxlen= maxlen)\n",
    "input_test = sequence.pad_sequences(input_test, maxlen= maxlen)\n",
    "print('input_train shape :', input_train.shape)\n",
    "print('input_test shape :', input_test.shape)"
   ]
  },
  {
   "cell_type": "code",
   "execution_count": 20,
   "id": "70405546",
   "metadata": {},
   "outputs": [],
   "source": [
    "from keras.layers import Dense, Embedding, SimpleRNN\n",
    "from keras.models import Sequential\n",
    "\n",
    "model = Sequential()\n",
    "model.add(Embedding(max_features, 32))\n",
    "model.add(SimpleRNN(32))\n",
    "model.add(Dense(1, activation = 'sigmoid'))"
   ]
  },
  {
   "cell_type": "code",
   "execution_count": 21,
   "id": "f35d6595",
   "metadata": {},
   "outputs": [],
   "source": [
    "model.compile(optimizer = 'rmsprop',\n",
    "             loss = 'binary_crossentropy', \n",
    "             metrics = ['acc'])"
   ]
  },
  {
   "cell_type": "code",
   "execution_count": 22,
   "id": "e4f1fcd5",
   "metadata": {
    "scrolled": true
   },
   "outputs": [
    {
     "name": "stdout",
     "output_type": "stream",
     "text": [
      "Epoch 1/10\n",
      "157/157 [==============================] - 11s 67ms/step - loss: 0.6567 - acc: 0.5959 - val_loss: 0.5018 - val_acc: 0.7652\n",
      "Epoch 2/10\n",
      "157/157 [==============================] - 10s 66ms/step - loss: 0.4344 - acc: 0.8087 - val_loss: 0.5155 - val_acc: 0.7438\n",
      "Epoch 3/10\n",
      "157/157 [==============================] - 10s 65ms/step - loss: 0.3179 - acc: 0.8701 - val_loss: 0.3551 - val_acc: 0.8558\n",
      "Epoch 4/10\n",
      "157/157 [==============================] - 10s 65ms/step - loss: 0.2424 - acc: 0.9101 - val_loss: 0.4325 - val_acc: 0.8136\n",
      "Epoch 5/10\n",
      "157/157 [==============================] - 10s 66ms/step - loss: 0.1796 - acc: 0.9342 - val_loss: 0.4376 - val_acc: 0.8356\n",
      "Epoch 6/10\n",
      "157/157 [==============================] - 10s 65ms/step - loss: 0.1225 - acc: 0.9579 - val_loss: 0.4020 - val_acc: 0.8548\n",
      "Epoch 7/10\n",
      "157/157 [==============================] - 10s 66ms/step - loss: 0.0862 - acc: 0.9720 - val_loss: 0.4385 - val_acc: 0.8500\n",
      "Epoch 8/10\n",
      "157/157 [==============================] - 10s 65ms/step - loss: 0.0499 - acc: 0.9859 - val_loss: 0.5112 - val_acc: 0.8322\n",
      "Epoch 9/10\n",
      "157/157 [==============================] - 10s 65ms/step - loss: 0.0335 - acc: 0.9903 - val_loss: 0.9926 - val_acc: 0.7880\n",
      "Epoch 10/10\n",
      "157/157 [==============================] - 11s 70ms/step - loss: 0.0294 - acc: 0.9908 - val_loss: 0.5794 - val_acc: 0.8290\n"
     ]
    }
   ],
   "source": [
    "history = model.fit(input_train, y_train, epochs = 10, batch_size = 128, validation_split = 0.2)"
   ]
  },
  {
   "cell_type": "code",
   "execution_count": 30,
   "id": "589fdce5",
   "metadata": {},
   "outputs": [
    {
     "data": {
      "text/plain": [
       "dict_keys(['loss', 'acc', 'val_loss', 'val_acc'])"
      ]
     },
     "execution_count": 30,
     "metadata": {},
     "output_type": "execute_result"
    }
   ],
   "source": [
    "history.history.keys()"
   ]
  },
  {
   "cell_type": "code",
   "execution_count": 37,
   "id": "31cee4be",
   "metadata": {},
   "outputs": [
    {
     "data": {
      "image/png": "[encoded data removed]",
      "text/plain": [
       "<Figure size 432x288 with 1 Axes>"
      ]
     },
     "metadata": {
      "needs_background": "light"
     },
     "output_type": "display_data"
    },
    {
     "data": {
      "image/png": "[encoded data removed]",
      "text/plain": [
       "<Figure size 432x288 with 1 Axes>"
      ]
     },
     "metadata": {
      "needs_background": "light"
     },
     "output_type": "display_data"
    }
   ],
   "source": [
    "import matplotlib.pyplot as plt\n",
    "\n",
    "acc = history.history['acc']\n",
    "val_acc = history.history['val_acc']\n",
    "loss = history.history['loss']\n",
    "val_loss = history.history['val_loss']\n",
    "\n",
    "epochs = range(1, len(acc)+1)\n",
    "plt.plot(epochs, acc, 'bo', label = 'Entrainement')\n",
    "plt.plot(epochs, val_acc, 'b', label = 'Validation')\n",
    "plt.legend()\n",
    "\n",
    "plt.figure()\n",
    "\n",
    "epochs = range(1, len(acc)+1)\n",
    "plt.plot(epochs, loss, 'bo', label = 'Entrainement')\n",
    "plt.plot(epochs, val_loss, 'b', label = 'Validation')\n",
    "plt.legend()\n",
    "\n",
    "plt.show()"
   ]
  },
  {
   "cell_type": "code",
   "execution_count": 40,
   "id": "fde73e70",
   "metadata": {},
   "outputs": [],
   "source": [
    "from keras.layers import LSTM\n",
    "\n",
    "model = Sequential()\n",
    "model.add(Embedding(max_features, 32))\n",
    "model.add(LSTM(32))\n",
    "model.add(Dense(1, activation = 'sigmoid'))"
   ]
  },
  {
   "cell_type": "code",
   "execution_count": 42,
   "id": "c2a0d0b9",
   "metadata": {},
   "outputs": [],
   "source": [
    "model.compile(optimizer = 'Adam',\n",
    "              loss = 'binary_crossentropy',\n",
    "             metrics = ['acc'])"
   ]
  },
  {
   "cell_type": "code",
   "execution_count": 43,
   "id": "be284dd2",
   "metadata": {},
   "outputs": [
    {
     "name": "stdout",
     "output_type": "stream",
     "text": [
      "Epoch 1/10\n",
      "157/157 [==============================] - 27s 164ms/step - loss: 0.4908 - acc: 0.7667 - val_loss: 0.3394 - val_acc: 0.8598\n",
      "Epoch 2/10\n",
      "157/157 [==============================] - 27s 171ms/step - loss: 0.2878 - acc: 0.8879 - val_loss: 0.2953 - val_acc: 0.8802\n",
      "Epoch 3/10\n",
      "157/157 [==============================] - 29s 182ms/step - loss: 0.1876 - acc: 0.9317 - val_loss: 0.2958 - val_acc: 0.8802\n",
      "Epoch 4/10\n",
      "157/157 [==============================] - 28s 176ms/step - loss: 0.1390 - acc: 0.9528 - val_loss: 0.3261 - val_acc: 0.8760\n",
      "Epoch 5/10\n",
      "157/157 [==============================] - 28s 178ms/step - loss: 0.1137 - acc: 0.9637 - val_loss: 0.3568 - val_acc: 0.8710\n",
      "Epoch 6/10\n",
      "157/157 [==============================] - 28s 179ms/step - loss: 0.0948 - acc: 0.9696 - val_loss: 0.4260 - val_acc: 0.8730\n",
      "Epoch 7/10\n",
      "157/157 [==============================] - 28s 179ms/step - loss: 0.0771 - acc: 0.9769 - val_loss: 0.4647 - val_acc: 0.8688\n",
      "Epoch 8/10\n",
      "157/157 [==============================] - 29s 182ms/step - loss: 0.0657 - acc: 0.9798 - val_loss: 0.4418 - val_acc: 0.8694\n",
      "Epoch 9/10\n",
      "157/157 [==============================] - 28s 175ms/step - loss: 0.1080 - acc: 0.9599 - val_loss: 0.4305 - val_acc: 0.8524\n",
      "Epoch 10/10\n",
      "157/157 [==============================] - 28s 176ms/step - loss: 0.0783 - acc: 0.9744 - val_loss: 0.4650 - val_acc: 0.8718\n"
     ]
    }
   ],
   "source": [
    "history = model.fit(input_train, y_train, batch_size = 128, validation_split = .2, epochs = 10)"
   ]
  },
  {
   "cell_type": "code",
   "execution_count": 44,
   "id": "bce7fa9c",
   "metadata": {},
   "outputs": [
    {
     "data": {
      "text/plain": [
       "dict_keys(['loss', 'acc', 'val_loss', 'val_acc'])"
      ]
     },
     "execution_count": 44,
     "metadata": {},
     "output_type": "execute_result"
    }
   ],
   "source": [
    "history.history.keys()"
   ]
  },
  {
   "cell_type": "code",
   "execution_count": 49,
   "id": "f74c765f",
   "metadata": {},
   "outputs": [
    {
     "data": {
      "text/plain": [
       "0.8802000284194946"
      ]
     },
     "execution_count": 49,
     "metadata": {},
     "output_type": "execute_result"
    }
   ],
   "source": [
    "max(history.history['val_acc'])"
   ]
  },
  {
   "cell_type": "code",
   "execution_count": 45,
   "id": "9cf3e899",
   "metadata": {},
   "outputs": [
    {
     "data": {
      "image/png": "[encoded data removed]",
      "text/plain": [
       "<Figure size 432x288 with 1 Axes>"
      ]
     },
     "metadata": {
      "needs_background": "light"
     },
     "output_type": "display_data"
    },
    {
     "data": {
      "image/png": "[encoded data removed]",
      "text/plain": [
       "<Figure size 432x288 with 1 Axes>"
      ]
     },
     "metadata": {
      "needs_background": "light"
     },
     "output_type": "display_data"
    }
   ],
   "source": [
    "acc = history.history['acc']\n",
    "val_acc = history.history['val_acc']\n",
    "loss = history.history['loss']\n",
    "val_loss = history.history['val_loss']\n",
    "\n",
    "plt.plot(range(1, len(epochs)+1), acc, 'bo', label = 'Entrainement')\n",
    "plt.plot(range(1, len(epochs)+1), val_acc, 'b', label = 'validation')\n",
    "plt.title('Exactitude de la prédiction sur l\\'echantillon d\\'apprentissage')\n",
    "\n",
    "plt.legend()\n",
    "\n",
    "plt.figure()\n",
    "\n",
    "plt.plot(range(1, len(epochs)+1), loss, 'bo', label = 'Entrainement')\n",
    "plt.plot(range(1, len(epochs)+1), val_loss, 'b', label = 'validation')\n",
    "plt.title('Exactitude de la prédiction sur l\\'echantillon d\\'apprentissage')\n",
    "\n",
    "plt.legend()\n",
    "plt.show()\n"
   ]
  }
 ],
 "metadata": {
  "kernelspec": {
   "display_name": "Python 3 (ipykernel)",
   "language": "python",
   "name": "python3"
  },
  "language_info": {
   "codemirror_mode": {
    "name": "ipython",
    "version": 3
   },
   "file_extension": ".py",
   "mimetype": "text/x-python",
   "name": "python",
   "nbconvert_exporter": "python",
   "pygments_lexer": "ipython3",
   "version": "3.9.11"
  }
 },
 "nbformat": 4,
 "nbformat_minor": 5
}

{
 "cells": [
  {
   "cell_type": "markdown",
   "id": "d2b07f32-7480-4060-b2a7-21c7f839873c",
   "metadata": {},
   "source": [
    "### The Word2Vec Model\n",
    "\n",
    "There are two different model architectures which can be leveraged by Word2Vec to create these word embedding representations. These include,\n",
    "\n",
    "    1.The Continuous Bag of Words (CBOW) Model\n",
    "    2.The Skip-gram Model "
   ]
  },
  {
   "cell_type": "markdown",
   "id": "e45a0802-3979-45de-82a8-4893a10fe00f",
   "metadata": {},
   "source": [
    "https://www.kdnuggets.com/2018/04/implementing-deep-learning-methods-feature-engineering-text-data-cbow.html\n",
    "https://www.kdnuggets.com/2018/04/implementing-deep-learning-methods-feature-engineering-text-data-skip-gram.html"
   ]
  },
  {
   "cell_type": "code",
   "execution_count": 1,
   "id": "adda3209-b33c-401a-bc79-78df9c648283",
   "metadata": {},
   "outputs": [],
   "source": [
    "import torch\n",
    "from torch.autograd import Variable\n",
    "import torch.nn as nn\n",
    "import torch.nn.functional as F\n",
    "import torch.optim as optim"
   ]
  },
  {
   "cell_type": "code",
   "execution_count": 11,
   "id": "4983e2ea-76f8-40ac-912f-2e73417cfd04",
   "metadata": {},
   "outputs": [],
   "source": [
    "CONTEXT_SIZE = 2\n",
    "\n",
    "text = \"\"\"We are about to study the idea of a computational process.\n",
    "Computational processes are abstract beings that inhabit computers.\n",
    "As they evolve, processes manipulate other abstract things called data.\n",
    "The evolution of a process is directed by a pattern of rules\n",
    "called a program. People create programs to direct processes. In effect,\n",
    "we conjure the spirits of the computer with our spells.\"\"\".split()\n",
    "\n"
   ]
  },
  {
   "cell_type": "code",
   "execution_count": 12,
   "id": "3247c264-858b-402d-83ab-04633f601f85",
   "metadata": {},
   "outputs": [
    {
     "name": "stdout",
     "output_type": "stream",
     "text": [
      "vocab_size:  49\n"
     ]
    }
   ],
   "source": [
    "vocab = set(text)\n",
    "vocab_size = len(vocab)\n",
    "print('vocab_size: ', vocab_size)\n",
    "\n",
    "w2i = {w:i for i, w in enumerate(vocab)}\n",
    "i2w = {i:w for i, w in enumerate(vocab)}"
   ]
  },
  {
   "cell_type": "code",
   "execution_count": 13,
   "id": "d32000f9-f63c-4851-a422-7bd858a2d121",
   "metadata": {},
   "outputs": [],
   "source": [
    "def create_cbow_dataset(text):\n",
    "    data = []\n",
    "    for i in range(2, len(text)-2):\n",
    "        context = [text[i-2], text[i-1], \n",
    "                   text[i+1], text[i+2]]\n",
    "        target = text[i]\n",
    "        data.append((context, target))\n",
    "    return data\n",
    "\n",
    "def create_skipgram_dataset(text):\n",
    "    import random\n",
    "    data = []\n",
    "    for i in range(2, len(text)-2):\n",
    "        # contextually relevant pair\n",
    "        data.append((text[i], text[i-2], 1))\n",
    "        data.append((text[i], text[i-1], 1))\n",
    "        data.append((text[i], text[i+1], 1))\n",
    "        data.append((text[i], text[i+2], 1))\n",
    "        \n",
    "        for _ in range(4):\n",
    "            if  i >= len(text)-3:\n",
    "                rand_id = random.randint(0, i-1)\n",
    "            else:\n",
    "                rand_id = random.randint(i+3, len(text)-1)\n",
    "            # contextually irrelevant pair\n",
    "            data.append((text[i], text[rand_id], 0))\n",
    "                        \n",
    "    return data\n",
    "                \n",
    "            "
   ]
  },
  {
   "cell_type": "code",
   "execution_count": 14,
   "id": "c9ca45ae-40b6-462a-b620-3ce3df0ca733",
   "metadata": {},
   "outputs": [
    {
     "data": {
      "text/plain": [
       "62"
      ]
     },
     "execution_count": 14,
     "metadata": {},
     "output_type": "execute_result"
    }
   ],
   "source": [
    "len(text)"
   ]
  },
  {
   "cell_type": "code",
   "execution_count": 15,
   "id": "8285c829-6118-48a6-a092-8431387a7ad5",
   "metadata": {},
   "outputs": [
    {
     "name": "stdout",
     "output_type": "stream",
     "text": [
      "cbow sample (['We', 'are', 'to', 'study'], 'about')\n",
      "skipgram sample ('about', 'We', 1)\n"
     ]
    }
   ],
   "source": [
    "cbow_train = create_cbow_dataset(text)\n",
    "skipgram_train = create_skipgram_dataset(text)\n",
    "print('cbow sample', cbow_train[0])\n",
    "print('skipgram sample', skipgram_train[0])"
   ]
  },
  {
   "cell_type": "code",
   "execution_count": 16,
   "id": "1a761072-8af3-4751-98c3-78ca8769064a",
   "metadata": {},
   "outputs": [
    {
     "name": "stdout",
     "output_type": "stream",
     "text": [
      "('about', 'We', 1)\n",
      "('about', 'are', 1)\n",
      "('about', 'to', 1)\n",
      "('about', 'study', 1)\n",
      "('about', 'idea', 0)\n",
      "('about', 'beings', 0)\n",
      "('about', 'evolve,', 0)\n",
      "('about', 'computational', 0)\n",
      "('to', 'are', 1)\n",
      "('to', 'about', 1)\n",
      "('to', 'study', 1)\n",
      "('to', 'the', 1)\n",
      "('to', 'As', 0)\n",
      "('to', 'are', 0)\n",
      "('to', 'computational', 0)\n",
      "('to', 'data.', 0)\n",
      "('study', 'about', 1)\n",
      "('study', 'to', 1)\n",
      "('study', 'the', 1)\n",
      "('study', 'idea', 1)\n",
      "('study', 'to', 0)\n",
      "('study', 'conjure', 0)\n",
      "('study', 'evolve,', 0)\n",
      "('study', 'we', 0)\n",
      "('the', 'to', 1)\n",
      "('the', 'study', 1)\n",
      "('the', 'idea', 1)\n",
      "('the', 'of', 1)\n",
      "('the', 'things', 0)\n",
      "('the', 'processes', 0)\n",
      "('the', 'directed', 0)\n",
      "('the', 'called', 0)\n",
      "('idea', 'study', 1)\n",
      "('idea', 'the', 1)\n",
      "('idea', 'of', 1)\n",
      "('idea', 'a', 1)\n",
      "('idea', 'of', 0)\n",
      "('idea', 'manipulate', 0)\n",
      "('idea', 'our', 0)\n",
      "('idea', 'abstract', 0)\n",
      "('of', 'the', 1)\n",
      "('of', 'idea', 1)\n",
      "('of', 'a', 1)\n",
      "('of', 'computational', 1)\n",
      "('of', 'a', 0)\n",
      "('of', 'we', 0)\n",
      "('of', 'Computational', 0)\n",
      "('of', 'other', 0)\n",
      "('a', 'idea', 1)\n",
      "('a', 'of', 1)\n",
      "('a', 'computational', 1)\n",
      "('a', 'process.', 1)\n",
      "('a', 'called', 0)\n",
      "('a', 'with', 0)\n",
      "('a', 'of', 0)\n",
      "('a', 'People', 0)\n",
      "('computational', 'of', 1)\n",
      "('computational', 'a', 1)\n",
      "('computational', 'process.', 1)\n",
      "('computational', 'Computational', 1)\n",
      "('computational', 'a', 0)\n",
      "('computational', 'with', 0)\n",
      "('computational', 'they', 0)\n",
      "('computational', 'the', 0)\n",
      "('process.', 'a', 1)\n",
      "('process.', 'computational', 1)\n",
      "('process.', 'Computational', 1)\n",
      "('process.', 'processes', 1)\n",
      "('process.', 'of', 0)\n",
      "('process.', 'directed', 0)\n",
      "('process.', 'inhabit', 0)\n",
      "('process.', 'spirits', 0)\n",
      "('Computational', 'computational', 1)\n",
      "('Computational', 'process.', 1)\n",
      "('Computational', 'processes', 1)\n",
      "('Computational', 'are', 1)\n",
      "('Computational', 'abstract', 0)\n",
      "('Computational', 'evolve,', 0)\n",
      "('Computational', 'that', 0)\n",
      "('Computational', 'beings', 0)\n",
      "('processes', 'process.', 1)\n",
      "('processes', 'Computational', 1)\n",
      "('processes', 'are', 1)\n",
      "('processes', 'abstract', 1)\n",
      "('processes', 'programs', 0)\n",
      "('processes', 'of', 0)\n",
      "('processes', 'beings', 0)\n",
      "('processes', 'of', 0)\n",
      "('are', 'Computational', 1)\n",
      "('are', 'processes', 1)\n",
      "('are', 'abstract', 1)\n",
      "('are', 'beings', 1)\n",
      "('are', 'The', 0)\n",
      "('are', 'program.', 0)\n",
      "('are', 'is', 0)\n",
      "('are', 'our', 0)\n",
      "('abstract', 'processes', 1)\n",
      "('abstract', 'are', 1)\n",
      "('abstract', 'beings', 1)\n",
      "('abstract', 'that', 1)\n",
      "('abstract', 'The', 0)\n",
      "('abstract', 'our', 0)\n",
      "('abstract', 'create', 0)\n",
      "('abstract', 'abstract', 0)\n",
      "('beings', 'are', 1)\n",
      "('beings', 'abstract', 1)\n",
      "('beings', 'that', 1)\n",
      "('beings', 'inhabit', 1)\n",
      "('beings', 'computer', 0)\n",
      "('beings', 'create', 0)\n",
      "('beings', 'conjure', 0)\n",
      "('beings', 'is', 0)\n",
      "('that', 'abstract', 1)\n",
      "('that', 'beings', 1)\n",
      "('that', 'inhabit', 1)\n",
      "('that', 'computers.', 1)\n",
      "('that', 'manipulate', 0)\n",
      "('that', 'computer', 0)\n",
      "('that', 'spirits', 0)\n",
      "('that', 'called', 0)\n",
      "('inhabit', 'beings', 1)\n",
      "('inhabit', 'that', 1)\n",
      "('inhabit', 'computers.', 1)\n",
      "('inhabit', 'As', 1)\n",
      "('inhabit', 'with', 0)\n",
      "('inhabit', 'rules', 0)\n",
      "('inhabit', 'of', 0)\n",
      "('inhabit', 'is', 0)\n",
      "('computers.', 'that', 1)\n",
      "('computers.', 'inhabit', 1)\n",
      "('computers.', 'As', 1)\n",
      "('computers.', 'they', 1)\n",
      "('computers.', 'a', 0)\n",
      "('computers.', 'a', 0)\n",
      "('computers.', 'computer', 0)\n",
      "('computers.', 'rules', 0)\n",
      "('As', 'inhabit', 1)\n",
      "('As', 'computers.', 1)\n",
      "('As', 'they', 1)\n",
      "('As', 'evolve,', 1)\n",
      "('As', 'a', 0)\n",
      "('As', 'evolution', 0)\n",
      "('As', 'of', 0)\n",
      "('As', 'manipulate', 0)\n",
      "('they', 'computers.', 1)\n",
      "('they', 'As', 1)\n",
      "('they', 'evolve,', 1)\n",
      "('they', 'processes', 1)\n",
      "('they', 'directed', 0)\n",
      "('they', 'manipulate', 0)\n",
      "('they', 'effect,', 0)\n",
      "('they', 'by', 0)\n",
      "('evolve,', 'As', 1)\n",
      "('evolve,', 'they', 1)\n",
      "('evolve,', 'processes', 1)\n",
      "('evolve,', 'manipulate', 1)\n",
      "('evolve,', 'process', 0)\n",
      "('evolve,', 'computer', 0)\n",
      "('evolve,', 'we', 0)\n",
      "('evolve,', 'things', 0)\n",
      "('processes', 'they', 1)\n",
      "('processes', 'evolve,', 1)\n",
      "('processes', 'manipulate', 1)\n",
      "('processes', 'other', 1)\n",
      "('processes', 'effect,', 0)\n",
      "('processes', 'of', 0)\n",
      "('processes', 'direct', 0)\n",
      "('processes', 'evolution', 0)\n",
      "('manipulate', 'evolve,', 1)\n",
      "('manipulate', 'processes', 1)\n",
      "('manipulate', 'other', 1)\n",
      "('manipulate', 'abstract', 1)\n",
      "('manipulate', 'of', 0)\n",
      "('manipulate', 'we', 0)\n",
      "('manipulate', 'computer', 0)\n",
      "('manipulate', 'the', 0)\n",
      "('other', 'processes', 1)\n",
      "('other', 'manipulate', 1)\n",
      "('other', 'abstract', 1)\n",
      "('other', 'things', 1)\n",
      "('other', 'of', 0)\n",
      "('other', 'spirits', 0)\n",
      "('other', 'our', 0)\n",
      "('other', 'is', 0)\n",
      "('abstract', 'manipulate', 1)\n",
      "('abstract', 'other', 1)\n",
      "('abstract', 'things', 1)\n",
      "('abstract', 'called', 1)\n",
      "('abstract', 'a', 0)\n",
      "('abstract', 'our', 0)\n",
      "('abstract', 'processes.', 0)\n",
      "('abstract', 'called', 0)\n",
      "('things', 'other', 1)\n",
      "('things', 'abstract', 1)\n",
      "('things', 'called', 1)\n",
      "('things', 'data.', 1)\n",
      "('things', 'process', 0)\n",
      "('things', 'of', 0)\n",
      "('things', 'is', 0)\n",
      "('things', 'a', 0)\n",
      "('called', 'abstract', 1)\n",
      "('called', 'things', 1)\n",
      "('called', 'data.', 1)\n",
      "('called', 'The', 1)\n",
      "('called', 'a', 0)\n",
      "('called', 'evolution', 0)\n",
      "('called', 'of', 0)\n",
      "('called', 'conjure', 0)\n",
      "('data.', 'things', 1)\n",
      "('data.', 'called', 1)\n",
      "('data.', 'The', 1)\n",
      "('data.', 'evolution', 1)\n",
      "('data.', 'computer', 0)\n",
      "('data.', 'we', 0)\n",
      "('data.', 'of', 0)\n",
      "('data.', 'the', 0)\n",
      "('The', 'called', 1)\n",
      "('The', 'data.', 1)\n",
      "('The', 'evolution', 1)\n",
      "('The', 'of', 1)\n",
      "('The', 'In', 0)\n",
      "('The', 'processes.', 0)\n",
      "('The', 'conjure', 0)\n",
      "('The', 'process', 0)\n",
      "('evolution', 'data.', 1)\n",
      "('evolution', 'The', 1)\n",
      "('evolution', 'of', 1)\n",
      "('evolution', 'a', 1)\n",
      "('evolution', 'People', 0)\n",
      "('evolution', 'the', 0)\n",
      "('evolution', 'create', 0)\n",
      "('evolution', 'spirits', 0)\n",
      "('of', 'The', 1)\n",
      "('of', 'evolution', 1)\n",
      "('of', 'a', 1)\n",
      "('of', 'process', 1)\n",
      "('of', 'spirits', 0)\n",
      "('of', 'of', 0)\n",
      "('of', 'rules', 0)\n",
      "('of', 'spirits', 0)\n",
      "('a', 'evolution', 1)\n",
      "('a', 'of', 1)\n",
      "('a', 'process', 1)\n",
      "('a', 'is', 1)\n",
      "('a', 'direct', 0)\n",
      "('a', 'spells.', 0)\n",
      "('a', 'a', 0)\n",
      "('a', 'by', 0)\n",
      "('process', 'of', 1)\n",
      "('process', 'a', 1)\n",
      "('process', 'is', 1)\n",
      "('process', 'directed', 1)\n",
      "('process', 'create', 0)\n",
      "('process', 'effect,', 0)\n",
      "('process', 'People', 0)\n",
      "('process', 'with', 0)\n",
      "('is', 'a', 1)\n",
      "('is', 'process', 1)\n",
      "('is', 'directed', 1)\n",
      "('is', 'by', 1)\n",
      "('is', 'computer', 0)\n",
      "('is', 'the', 0)\n",
      "('is', 'effect,', 0)\n",
      "('is', 'of', 0)\n",
      "('directed', 'process', 1)\n",
      "('directed', 'is', 1)\n",
      "('directed', 'by', 1)\n",
      "('directed', 'a', 1)\n",
      "('directed', 'direct', 0)\n",
      "('directed', 'pattern', 0)\n",
      "('directed', 'programs', 0)\n",
      "('directed', 'program.', 0)\n",
      "('by', 'is', 1)\n",
      "('by', 'directed', 1)\n",
      "('by', 'a', 1)\n",
      "('by', 'pattern', 1)\n",
      "('by', 'of', 0)\n",
      "('by', 'our', 0)\n",
      "('by', 'People', 0)\n",
      "('by', 'a', 0)\n",
      "('a', 'directed', 1)\n",
      "('a', 'by', 1)\n",
      "('a', 'pattern', 1)\n",
      "('a', 'of', 1)\n",
      "('a', 'In', 0)\n",
      "('a', 'In', 0)\n",
      "('a', 'create', 0)\n",
      "('a', 'direct', 0)\n",
      "('pattern', 'by', 1)\n",
      "('pattern', 'a', 1)\n",
      "('pattern', 'of', 1)\n",
      "('pattern', 'rules', 1)\n",
      "('pattern', 'direct', 0)\n",
      "('pattern', 'with', 0)\n",
      "('pattern', 'spells.', 0)\n",
      "('pattern', 'In', 0)\n",
      "('of', 'a', 1)\n",
      "('of', 'pattern', 1)\n",
      "('of', 'rules', 1)\n",
      "('of', 'called', 1)\n",
      "('of', 'we', 0)\n",
      "('of', 'create', 0)\n",
      "('of', 'the', 0)\n",
      "('of', 'we', 0)\n",
      "('rules', 'pattern', 1)\n",
      "('rules', 'of', 1)\n",
      "('rules', 'called', 1)\n",
      "('rules', 'a', 1)\n",
      "('rules', 'our', 0)\n",
      "('rules', 'the', 0)\n",
      "('rules', 'to', 0)\n",
      "('rules', 'In', 0)\n",
      "('called', 'of', 1)\n",
      "('called', 'rules', 1)\n",
      "('called', 'a', 1)\n",
      "('called', 'program.', 1)\n",
      "('called', 'we', 0)\n",
      "('called', 'computer', 0)\n",
      "('called', 'with', 0)\n",
      "('called', 'processes.', 0)\n",
      "('a', 'rules', 1)\n",
      "('a', 'called', 1)\n",
      "('a', 'program.', 1)\n",
      "('a', 'People', 1)\n",
      "('a', 'we', 0)\n",
      "('a', 'we', 0)\n",
      "('a', 'In', 0)\n",
      "('a', 'In', 0)\n",
      "('program.', 'called', 1)\n",
      "('program.', 'a', 1)\n",
      "('program.', 'People', 1)\n",
      "('program.', 'create', 1)\n",
      "('program.', 'our', 0)\n",
      "('program.', 'spells.', 0)\n",
      "('program.', 'with', 0)\n",
      "('program.', 'effect,', 0)\n",
      "('People', 'a', 1)\n",
      "('People', 'program.', 1)\n",
      "('People', 'create', 1)\n",
      "('People', 'programs', 1)\n",
      "('People', 'spirits', 0)\n",
      "('People', 'In', 0)\n",
      "('People', 'conjure', 0)\n",
      "('People', 'effect,', 0)\n",
      "('create', 'program.', 1)\n",
      "('create', 'People', 1)\n",
      "('create', 'programs', 1)\n",
      "('create', 'to', 1)\n",
      "('create', 'spells.', 0)\n",
      "('create', 'of', 0)\n",
      "('create', 'spells.', 0)\n",
      "('create', 'spells.', 0)\n",
      "('programs', 'People', 1)\n",
      "('programs', 'create', 1)\n",
      "('programs', 'to', 1)\n",
      "('programs', 'direct', 1)\n",
      "('programs', 'we', 0)\n",
      "('programs', 'processes.', 0)\n",
      "('programs', 'conjure', 0)\n",
      "('programs', 'our', 0)\n",
      "('to', 'create', 1)\n",
      "('to', 'programs', 1)\n",
      "('to', 'direct', 1)\n",
      "('to', 'processes.', 1)\n",
      "('to', 'with', 0)\n",
      "('to', 'effect,', 0)\n",
      "('to', 'spells.', 0)\n",
      "('to', 'computer', 0)\n",
      "('direct', 'programs', 1)\n",
      "('direct', 'to', 1)\n",
      "('direct', 'processes.', 1)\n",
      "('direct', 'In', 1)\n",
      "('direct', 'spells.', 0)\n",
      "('direct', 'the', 0)\n",
      "('direct', 'of', 0)\n",
      "('direct', 'computer', 0)\n",
      "('processes.', 'to', 1)\n",
      "('processes.', 'direct', 1)\n",
      "('processes.', 'In', 1)\n",
      "('processes.', 'effect,', 1)\n",
      "('processes.', 'with', 0)\n",
      "('processes.', 'spirits', 0)\n",
      "('processes.', 'of', 0)\n",
      "('processes.', 'with', 0)\n",
      "('In', 'direct', 1)\n",
      "('In', 'processes.', 1)\n",
      "('In', 'effect,', 1)\n",
      "('In', 'we', 1)\n",
      "('In', 'with', 0)\n",
      "('In', 'our', 0)\n",
      "('In', 'with', 0)\n",
      "('In', 'with', 0)\n",
      "('effect,', 'processes.', 1)\n",
      "('effect,', 'In', 1)\n",
      "('effect,', 'we', 1)\n",
      "('effect,', 'conjure', 1)\n",
      "('effect,', 'of', 0)\n",
      "('effect,', 'of', 0)\n",
      "('effect,', 'spells.', 0)\n",
      "('effect,', 'with', 0)\n",
      "('we', 'In', 1)\n",
      "('we', 'effect,', 1)\n",
      "('we', 'conjure', 1)\n",
      "('we', 'the', 1)\n",
      "('we', 'our', 0)\n",
      "('we', 'spirits', 0)\n",
      "('we', 'with', 0)\n",
      "('we', 'of', 0)\n",
      "('conjure', 'effect,', 1)\n",
      "('conjure', 'we', 1)\n",
      "('conjure', 'the', 1)\n",
      "('conjure', 'spirits', 1)\n",
      "('conjure', 'with', 0)\n",
      "('conjure', 'of', 0)\n",
      "('conjure', 'the', 0)\n",
      "('conjure', 'of', 0)\n",
      "('the', 'we', 1)\n",
      "('the', 'conjure', 1)\n",
      "('the', 'spirits', 1)\n",
      "('the', 'of', 1)\n",
      "('the', 'with', 0)\n",
      "('the', 'our', 0)\n",
      "('the', 'computer', 0)\n",
      "('the', 'the', 0)\n",
      "('spirits', 'conjure', 1)\n",
      "('spirits', 'the', 1)\n",
      "('spirits', 'of', 1)\n",
      "('spirits', 'the', 1)\n",
      "('spirits', 'spells.', 0)\n",
      "('spirits', 'with', 0)\n",
      "('spirits', 'computer', 0)\n",
      "('spirits', 'computer', 0)\n",
      "('of', 'the', 1)\n",
      "('of', 'spirits', 1)\n",
      "('of', 'the', 1)\n",
      "('of', 'computer', 1)\n",
      "('of', 'with', 0)\n",
      "('of', 'with', 0)\n",
      "('of', 'with', 0)\n",
      "('of', 'with', 0)\n",
      "('the', 'spirits', 1)\n",
      "('the', 'of', 1)\n",
      "('the', 'computer', 1)\n",
      "('the', 'with', 1)\n",
      "('the', 'spells.', 0)\n",
      "('the', 'spells.', 0)\n",
      "('the', 'our', 0)\n",
      "('the', 'our', 0)\n",
      "('computer', 'of', 1)\n",
      "('computer', 'the', 1)\n",
      "('computer', 'with', 1)\n",
      "('computer', 'our', 1)\n",
      "('computer', 'spells.', 0)\n",
      "('computer', 'spells.', 0)\n",
      "('computer', 'spells.', 0)\n",
      "('computer', 'spells.', 0)\n",
      "('with', 'the', 1)\n",
      "('with', 'computer', 1)\n",
      "('with', 'our', 1)\n",
      "('with', 'spells.', 1)\n",
      "('with', 'beings', 0)\n",
      "('with', 'inhabit', 0)\n",
      "('with', 'process.', 0)\n",
      "('with', 'inhabit', 0)\n"
     ]
    }
   ],
   "source": [
    "for _ in range(len(skipgram_train)):\n",
    "    print(skipgram_train[_])"
   ]
  },
  {
   "cell_type": "code",
   "execution_count": 17,
   "id": "cb3848d8-4407-4919-826e-cee18bb27595",
   "metadata": {},
   "outputs": [],
   "source": [
    "# you need to specify nn.Module correctly in the brackets to inherit the class of Neural \n",
    "#network for the CBOW \n",
    "# Here, you’ve used super() to call the __init__() of the nn.Module class allowing to use it \n",
    "# in CBOW class. In this example, nn.Module is the superclass, and CBOW is the subclass.\n",
    "\n",
    "class CBOW(nn.Module):\n",
    "    def __init__(self, vocab_size, embd_size, context_size, hidden_size):\n",
    "        super(CBOW, self).__init__()\n",
    "        self.embeddings = nn.Embedding(vocab_size, embd_size)\n",
    "        self.linear1 = nn.Linear(2*context_size*embd_size, hidden_size)\n",
    "        self.linear2 = nn.Linear(hidden_size, vocab_size)\n",
    "        \n",
    "    def forward(self, inputs):\n",
    "        embedded = self.embeddings(inputs).view((1,-1))\n",
    "        hid = F.relu(self.linear1(embedded))\n",
    "        out = self.linear2(hid)\n",
    "        logs_probs = F.log_softmax(out)\n",
    "        return logs_probs\n",
    "        "
   ]
  },
  {
   "cell_type": "code",
   "execution_count": 35,
   "id": "1fbacb4c-5702-43e8-b295-02e762806a46",
   "metadata": {},
   "outputs": [],
   "source": [
    "class Skipgram(nn.Module):\n",
    "    def __init__(self, vocab_size, embd_size):\n",
    "        super(Skipgram, self).__init__()\n",
    "        self.embeddings = nn.Embedding(vocab_size, embd_size)\n",
    "        \n",
    "    def forward(self, focus, context):\n",
    "        embed_focus = self.embeddings(focus).view((1, -1))\n",
    "        embed_ctx = self.embeddings(context).view((1, -1))\n",
    "        score = torch.mm(embed_focus, torch.t(embed_ctx))\n",
    "        log_probs = F.logsigmoid(score)\n",
    "        \n",
    "        return log_probs"
   ]
  },
  {
   "cell_type": "code",
   "execution_count": 19,
   "id": "89303585-cad6-4193-be59-4d8fa0464772",
   "metadata": {},
   "outputs": [],
   "source": [
    "embd_size = 100\n",
    "learning_rate = 0.001\n",
    "n_epoch = 30\n",
    "hidden_size = 64"
   ]
  },
  {
   "cell_type": "code",
   "execution_count": 20,
   "id": "50211193-c15f-4482-a3db-992a19733df8",
   "metadata": {},
   "outputs": [
    {
     "data": {
      "text/plain": [
       "(['We', 'are', 'to', 'study'], 'about')"
      ]
     },
     "execution_count": 20,
     "metadata": {},
     "output_type": "execute_result"
    }
   ],
   "source": [
    "cbow_train[0]"
   ]
  },
  {
   "cell_type": "code",
   "execution_count": 36,
   "id": "914a43dc-2ec9-46b2-aeb4-2d48c057f6e0",
   "metadata": {},
   "outputs": [],
   "source": [
    "def train_cbow():\n",
    "    losses = []\n",
    "    loss_fn = nn.NLLLoss()\n",
    "    model = CBOW(vocab_size, embd_size, CONTEXT_SIZE, hidden_size)\n",
    "    print(model)\n",
    "    optimizer = optim.SGD(model.parameters(), lr = learning_rate)\n",
    "    \n",
    "    for epoch in range(n_epoch):\n",
    "        total_loss = .0\n",
    "        for context, target in cbow_train: \n",
    "            ctx_idxs = [w2i[w] for w in context]\n",
    "            ctx_var = Variable(torch.LongTensor(ctx_idxs))\n",
    "            \n",
    "            model.zero_grad()\n",
    "            log_probs = model(ctx_var)\n",
    "            \n",
    "            loss = loss_fn(log_probs, Variable(torch.LongTensor([w2i[target]])))\n",
    "            \n",
    "            loss.backward()\n",
    "            optimizer.step()\n",
    "            # we add the loss of each row of dataset. \n",
    "            total_loss += loss.data\n",
    "            \n",
    "        losses.append(total_loss)\n",
    "    return model, losses"
   ]
  },
  {
   "cell_type": "code",
   "execution_count": 39,
   "id": "2480b8e9-b887-4f9f-9dbf-98734da3e694",
   "metadata": {},
   "outputs": [],
   "source": [
    "def train_skipgram():\n",
    "    losses = []\n",
    "    loss_fn = nn.MSELoss()\n",
    "    model = Skipgram(vocab_size, embd_size)\n",
    "    print(model)\n",
    "    optimizer = optim.SGD(model.parameters(), lr = learning_rate)\n",
    "    \n",
    "    for epoch in range(n_epoch):\n",
    "        total_losses = .0\n",
    "        for in_word, out_word, target in skipgram_train:\n",
    "            total_loss = .0\n",
    "            in_word_var = Variable(torch.LongTensor([w2i[in_word]]))\n",
    "            out_word_var = Variable(torch.LongTensor([w2i[out_word]]))\n",
    "            \n",
    "            model.zero_grad() \n",
    "            \n",
    "            log_probs =  model(in_word_var, out_word_var)\n",
    "            # Notice that the ind 0 in logs_probs indicate that we keep only the first predicted proba\n",
    "            loss = loss_fn(log_probs[0], Variable(torch.Tensor([target])))\n",
    "            \n",
    "            loss.backward()\n",
    "            optimizer.step()\n",
    "            total_loss += loss.data\n",
    "        losses.append(total_loss)\n",
    "    return model, losses\n",
    "            \n",
    "            \n",
    "            "
   ]
  },
  {
   "cell_type": "code",
   "execution_count": 40,
   "id": "555c6a7f-e59d-4f24-82a0-77a9f814cebb",
   "metadata": {},
   "outputs": [
    {
     "name": "stdout",
     "output_type": "stream",
     "text": [
      "CBOW(\n",
      "  (embeddings): Embedding(49, 100)\n",
      "  (linear1): Linear(in_features=400, out_features=64, bias=True)\n",
      "  (linear2): Linear(in_features=64, out_features=49, bias=True)\n",
      ")\n"
     ]
    },
    {
     "name": "stderr",
     "output_type": "stream",
     "text": [
      "C:\\Users\\justi\\AppData\\Local\\Temp\\ipykernel_18404\\3268549838.py:17: UserWarning: Implicit dimension choice for log_softmax has been deprecated. Change the call to include dim=X as an argument.\n",
      "  logs_probs = F.log_softmax(out)\n"
     ]
    },
    {
     "name": "stdout",
     "output_type": "stream",
     "text": [
      "Skipgram(\n",
      "  (embeddings): Embedding(49, 100)\n",
      ")\n"
     ]
    }
   ],
   "source": [
    "cbow_model, cbow_losses = train_cbow()\n",
    "skipgram_model, skipgram_losses = train_skipgram()"
   ]
  },
  {
   "cell_type": "code",
   "execution_count": 47,
   "id": "ec2e89c6-8e71-411a-b5b1-ff5e2e6f11fc",
   "metadata": {},
   "outputs": [],
   "source": [
    "def test_cbow(test_data, model):\n",
    "    print('====== Test CBOW ====')\n",
    "    correct = 0\n",
    "    for ctx, target in test_data:\n",
    "        ctx_ids = [w2i[word] for word in ctx]\n",
    "        ctx_var = Variable(torch.LongTensor(ctx_ids))\n",
    "        \n",
    "        model.zero_grad()\n",
    "        logs_prob = model(ctx_var)\n",
    "        _, predicted = torch.max(logs_prob, 1)\n",
    "        predicted_word = i2w[predicted.item()]\n",
    "        print('predicted:', predicted_word)\n",
    "        print('label :', target)\n",
    "        if predicted_word == target:\n",
    "            correct +=1\n",
    "            \n",
    "    print('Accuracy : {:.1f}% ({:d}/{:d})'.format(correct*100/len(test_data), correct, len(test_data)))\n",
    "    "
   ]
  },
  {
   "cell_type": "code",
   "execution_count": 48,
   "id": "a009cb97-2598-43ec-9ef4-7ba0ea3703ac",
   "metadata": {},
   "outputs": [],
   "source": [
    "def test_skipgram(test_data, model):\n",
    "    print('===== Test Skipgram ===')\n",
    "    correct = 0\n",
    "    for in_w, out_w, target in test_data:\n",
    "        in_w_var = Variable(torch.LongTensor([w2i[in_w]]))\n",
    "        out_w_var = Variable(torch.LongTensor([w2i[out_w]]))\n",
    "        \n",
    "        model.zero_grad()\n",
    "        logs_prob = model(in_w_var, out_w_var)\n",
    "        _, predicted = torch.max(logs_prob, 1)\n",
    "        # I don't understand very well the ind 0 in the brackets\n",
    "        predicted = predicted[0]\n",
    "        if predicted == target : \n",
    "            correct += 1\n",
    "            \n",
    "    print('Accuracy : {:.1f}% ({:d}/{:d})'.format(correct*100/len(test_data), correct, len(test_data)))"
   ]
  },
  {
   "cell_type": "code",
   "execution_count": 49,
   "id": "1d1427a1-7b36-4ce6-b255-651626f654ff",
   "metadata": {},
   "outputs": [
    {
     "name": "stdout",
     "output_type": "stream",
     "text": [
      "====== Test CBOW ====\n",
      "predicted: about\n",
      "label : about\n",
      "predicted: to\n",
      "label : to\n",
      "predicted: study\n",
      "label : study\n",
      "predicted: the\n",
      "label : the\n",
      "predicted: idea\n",
      "label : idea\n",
      "predicted: of\n",
      "label : of\n",
      "predicted: a\n",
      "label : a\n",
      "predicted: computational\n",
      "label : computational\n",
      "predicted: process.\n",
      "label : process.\n",
      "predicted: Computational\n",
      "label : Computational\n",
      "predicted: processes\n",
      "label : processes\n",
      "predicted: are\n",
      "label : are\n",
      "predicted: abstract\n",
      "label : abstract\n",
      "predicted: beings\n",
      "label : beings\n",
      "predicted: that\n",
      "label : that\n",
      "predicted: inhabit\n",
      "label : inhabit\n",
      "predicted: computers.\n",
      "label : computers.\n",
      "predicted: As\n",
      "label : As\n",
      "predicted: they\n",
      "label : they\n",
      "predicted: evolve,\n",
      "label : evolve,\n",
      "predicted: processes\n",
      "label : processes\n",
      "predicted: manipulate\n",
      "label : manipulate\n",
      "predicted: other\n",
      "label : other\n",
      "predicted: abstract\n",
      "label : abstract\n",
      "predicted: things\n",
      "label : things\n",
      "predicted: called\n",
      "label : called\n",
      "predicted: data.\n",
      "label : data.\n",
      "predicted: The\n",
      "label : The\n",
      "predicted: evolution\n",
      "label : evolution\n",
      "predicted: of\n",
      "label : of\n",
      "predicted: a\n",
      "label : a\n",
      "predicted: process\n",
      "label : process\n",
      "predicted: is\n",
      "label : is\n",
      "predicted: directed\n",
      "label : directed\n",
      "predicted: by\n",
      "label : by\n",
      "predicted: a\n",
      "label : a\n",
      "predicted: pattern\n",
      "label : pattern\n",
      "predicted: of\n",
      "label : of\n",
      "predicted: rules\n",
      "label : rules\n",
      "predicted: called\n",
      "label : called\n",
      "predicted: a\n",
      "label : a\n",
      "predicted: program.\n",
      "label : program.\n",
      "predicted: People\n",
      "label : People\n",
      "predicted: create\n",
      "label : create\n",
      "predicted: programs\n",
      "label : programs\n",
      "predicted: to\n",
      "label : to\n",
      "predicted: direct\n",
      "label : direct\n",
      "predicted: processes.\n",
      "label : processes.\n",
      "predicted: In\n",
      "label : In\n",
      "predicted: effect,\n",
      "label : effect,\n",
      "predicted: we\n",
      "label : we\n",
      "predicted: conjure\n",
      "label : conjure\n",
      "predicted: the\n",
      "label : the\n",
      "predicted: spirits\n",
      "label : spirits\n",
      "predicted: of\n",
      "label : of\n",
      "predicted: the\n",
      "label : the\n",
      "predicted: computer\n",
      "label : computer\n",
      "predicted: with\n",
      "label : with\n",
      "Accuracy : 100.0% (58/58)\n"
     ]
    },
    {
     "name": "stderr",
     "output_type": "stream",
     "text": [
      "C:\\Users\\justi\\AppData\\Local\\Temp\\ipykernel_18404\\3268549838.py:17: UserWarning: Implicit dimension choice for log_softmax has been deprecated. Change the call to include dim=X as an argument.\n",
      "  logs_probs = F.log_softmax(out)\n"
     ]
    }
   ],
   "source": [
    "test_cbow(cbow_train, cbow_model)"
   ]
  },
  {
   "cell_type": "code",
   "execution_count": 50,
   "id": "b9c2cff1-b2f5-4bdc-aa6a-d283336ab1e2",
   "metadata": {},
   "outputs": [
    {
     "name": "stdout",
     "output_type": "stream",
     "text": [
      "===== Test Skipgram ===\n",
      "Accuracy : 50.0% (232/464)\n"
     ]
    }
   ],
   "source": [
    "test_skipgram(skipgram_train, skipgram_model)"
   ]
  },
  {
   "cell_type": "code",
   "execution_count": 52,
   "id": "56f435e5-22b6-4a5d-a9c9-2eeede327f91",
   "metadata": {},
   "outputs": [
    {
     "data": {
      "text/plain": [
       "<Figure size 432x288 with 0 Axes>"
      ]
     },
     "metadata": {},
     "output_type": "display_data"
    },
    {
     "data": {
      "image/png": "[encoded data removed]",
      "text/plain": [
       "<Figure size 432x288 with 1 Axes>"
      ]
     },
     "metadata": {
      "needs_background": "light"
     },
     "output_type": "display_data"
    },
    {
     "data": {
      "text/plain": [
       "<Figure size 432x288 with 0 Axes>"
      ]
     },
     "metadata": {},
     "output_type": "display_data"
    },
    {
     "data": {
      "image/png": "[encoded data removed]",
      "text/plain": [
       "<Figure size 432x288 with 1 Axes>"
      ]
     },
     "metadata": {
      "needs_background": "light"
     },
     "output_type": "display_data"
    }
   ],
   "source": [
    "import matplotlib.pyplot as plt\n",
    "import numpy as np\n",
    "\n",
    "def showPlot(points, title):\n",
    "    plt.figure()\n",
    "    fig, ax = plt.subplots()\n",
    "    plt.plot(points)\n",
    "    plt.title(title)\n",
    "    \n",
    "showPlot(cbow_losses, \"Perte du modèle CBOW\")\n",
    "showPlot(skipgram_losses, \"Perte du modèle Skip Gram\")"
   ]
  },
  {
   "cell_type": "markdown",
   "id": "21f10748-f7d0-4a66-bcab-17127672d3d5",
   "metadata": {},
   "source": [
    "### GLOVE model Representation of vectors"
   ]
  },
  {
   "cell_type": "code",
   "execution_count": 55,
   "id": "882c3d94-10f6-4457-8e22-da132cbcf1b4",
   "metadata": {},
   "outputs": [],
   "source": [
    "# pip install torchtext"
   ]
  },
  {
   "cell_type": "code",
   "execution_count": 56,
   "id": "d89c5480-0187-4e13-971e-0e0d1f9a1265",
   "metadata": {},
   "outputs": [
    {
     "name": "stderr",
     "output_type": "stream",
     "text": [
      ".vector_cache\\glove.6B.zip: 862MB [02:49, 5.07MB/s]                               \n",
      "100%|█████████▉| 399999/400000 [00:20<00:00, 19137.23it/s]\n"
     ]
    },
    {
     "name": "stdout",
     "output_type": "stream",
     "text": [
      "Loaded 400000 words\n"
     ]
    }
   ],
   "source": [
    "import torch\n",
    "import torchtext.vocab as vocab\n",
    "glove = vocab.GloVe(name = \"6B\", dim=100)\n",
    "print(\"Loaded {} words\".format(len(glove.itos)))"
   ]
  },
  {
   "cell_type": "code",
   "execution_count": 57,
   "id": "395d54f8-9fba-42cc-9257-f1bb2c696435",
   "metadata": {},
   "outputs": [],
   "source": [
    "def get_word(word):\n",
    "    return glove.vectors[glove.stoi[word]]"
   ]
  },
  {
   "cell_type": "code",
   "execution_count": 58,
   "id": "138cfc59-133f-436b-a7e6-12674cdbc35d",
   "metadata": {},
   "outputs": [
    {
     "data": {
      "text/plain": [
       "tensor([ 0.2257, -0.5625, -0.0516, -0.0794,  1.1876, -0.4840, -0.2334, -0.8528,\n",
       "         0.9750, -0.3334,  0.7169,  0.1264,  0.3196, -1.4136, -0.5790, -0.0373,\n",
       "        -0.0164,  0.4516, -0.2900,  0.5260, -0.2253, -0.2956, -0.0324,  1.5608,\n",
       "        -0.0135, -0.0646,  0.2663,  0.7860, -0.7169, -0.9302,  0.8046,  1.6035,\n",
       "        -0.3060, -0.3476,  0.9387,  0.3814, -0.2674, -0.5652,  0.5890, -0.1455,\n",
       "        -0.3432,  0.2129, -0.3989,  0.0900, -0.8495,  0.3880, -0.5045, -0.2249,\n",
       "         1.0644, -0.2624,  1.0334,  0.0635, -0.3999,  0.2424, -0.6564, -1.8107,\n",
       "        -0.0618,  0.1380,  1.1658, -0.3005, -0.5014,  0.1651,  0.0398,  0.6254,\n",
       "         0.5694,  0.6413,  0.2131,  0.3028,  0.3967,  0.3897,  0.2818,  0.7948,\n",
       "        -0.1196, -0.4960, -0.5319, -0.1490,  0.5125, -0.3921, -0.5853, -0.0785,\n",
       "         0.8172, -0.7350, -0.6813,  0.0992, -0.8761,  0.0296,  0.3340, -0.1431,\n",
       "         0.1696, -0.0352,  0.3978,  0.7177,  0.2587, -0.3620,  0.4570, -0.3916,\n",
       "        -0.4934, -0.1122,  0.2905,  0.7322])"
      ]
     },
     "execution_count": 58,
     "metadata": {},
     "output_type": "execute_result"
    }
   ],
   "source": [
    "get_word(\"google\")"
   ]
  },
  {
   "cell_type": "code",
   "execution_count": 74,
   "id": "c644d3f7-157c-467b-a907-e4d01121a54c",
   "metadata": {},
   "outputs": [],
   "source": [
    "a = list(['samy', 'justin', 'ayivi', 'ferrat'])"
   ]
  },
  {
   "cell_type": "code",
   "execution_count": 80,
   "id": "3bf49501-1768-40b3-8db3-982c603072cd",
   "metadata": {},
   "outputs": [
    {
     "data": {
      "text/plain": [
       "['ayivi', 'ferrat', 'justin', 'samy']"
      ]
     },
     "execution_count": 80,
     "metadata": {},
     "output_type": "execute_result"
    }
   ],
   "source": [
    "sorted(a)"
   ]
  },
  {
   "cell_type": "code",
   "execution_count": 81,
   "id": "6ee8068f-4131-41ad-8272-f1e2882366e7",
   "metadata": {},
   "outputs": [
    {
     "data": {
      "text/plain": [
       "[('justin', 'A', 10), ('dave', 'B', 12)]"
      ]
     },
     "execution_count": 81,
     "metadata": {},
     "output_type": "execute_result"
    }
   ],
   "source": [
    "student_tuples = [('dave', 'B', 12),('justin', 'A', 10), ('ayivi', 'C', 13)]\n",
    "sorted(student_tuples, key = lambda t:t[1])[:2]"
   ]
  },
  {
   "cell_type": "code",
   "execution_count": 82,
   "id": "bab9e3c8-9ed8-464e-99e5-69220653c3cf",
   "metadata": {},
   "outputs": [],
   "source": [
    "def closest(vec, n = 10):\n",
    "    all_dists = [(w, torch.dist(vec, get_word(w))) for w in glove.itos]\n",
    "    return sorted(all_dists, key = lambda t: t[1])[:n]"
   ]
  },
  {
   "cell_type": "code",
   "execution_count": 90,
   "id": "15e9d9f1-4f1b-479c-9e15-28cfacf3fc16",
   "metadata": {},
   "outputs": [],
   "source": [
    "def print_tuples(tuples):\n",
    "    for tuple in tuples : \n",
    "        print(\"(%.4f) %s\" % (tuple[1], tuple[0]))"
   ]
  },
  {
   "cell_type": "code",
   "execution_count": 91,
   "id": "d63bfc01-9eff-42c2-a5bf-acdd8e0ebd92",
   "metadata": {},
   "outputs": [
    {
     "name": "stdout",
     "output_type": "stream",
     "text": [
      "(0.0000) google\n",
      "(3.0772) yahoo\n",
      "(3.8836) microsoft\n",
      "(4.1048) web\n",
      "(4.1082) aol\n",
      "(4.1165) facebook\n",
      "(4.3917) ebay\n",
      "(4.4122) msn\n",
      "(4.4540) internet\n",
      "(4.4651) netscape\n"
     ]
    }
   ],
   "source": [
    "print_tuples(closest(get_word(\"google\")))"
   ]
  },
  {
   "cell_type": "code",
   "execution_count": 92,
   "id": "48e550eb-1f51-4d63-9a23-29c9027df05b",
   "metadata": {},
   "outputs": [],
   "source": [
    "def analogy(w1, w2, w3, n=5, filter_given = True):\n",
    "    print('\\n[%s : %s :: %s :?]' % (w1, w2, w3))\n",
    "    closest_words = closest(get_word(w2) - get_word(w1) + get_word(w3))\n",
    "    if filter_given:\n",
    "        closest_words = [t for t in closest_words if t[0] not in [w1,w2,w3]]\n",
    "    print_tuples(closest_words[:n])"
   ]
  },
  {
   "cell_type": "code",
   "execution_count": 93,
   "id": "e80d4ba6-6849-444a-9a19-a99d2340976a",
   "metadata": {},
   "outputs": [
    {
     "name": "stdout",
     "output_type": "stream",
     "text": [
      "\n",
      "[king : man :: queen :?]\n",
      "(4.0811) woman\n",
      "(4.6916) girl\n",
      "(5.2703) she\n",
      "(5.2788) teenager\n",
      "(5.3084) boy\n"
     ]
    }
   ],
   "source": [
    "analogy(\"king\", \"man\", \"queen\")"
   ]
  },
  {
   "cell_type": "code",
   "execution_count": 95,
   "id": "24fc4416-64cc-4771-a31b-14a052dbeb1b",
   "metadata": {},
   "outputs": [
    {
     "name": "stdout",
     "output_type": "stream",
     "text": [
      "\n",
      "[car : bicycle :: truck :?]\n",
      "(4.1340) bike\n",
      "(4.6345) tractor\n",
      "(4.8179) motorbike\n",
      "(4.8313) trolley\n",
      "(4.8640) trucker\n"
     ]
    }
   ],
   "source": [
    "analogy(\"car\", \"bicycle\", \"truck\")"
   ]
  },
  {
   "cell_type": "code",
   "execution_count": null,
   "id": "516e94dc-c778-489e-a009-1eb890ba6c2d",
   "metadata": {},
   "outputs": [],
   "source": [
    "analogy('man', 'actor', 'woman')\n",
    "analogy('cat', 'kitten', 'dog')\n",
    "analogy('dog', 'puppy', 'cat')\n",
    "analogy('russia', 'moscow', 'france')\n",
    "analogy('obama', 'president', 'trump')\n",
    "analogy('rich', 'mansion', 'poor')\n",
    "analogy('elvis', 'rock', 'eminem')\n",
    "analogy('paper', 'newspaper', 'screen')\n",
    "analogy('monet', 'paint', 'michelangelo')\n",
    "analogy('beer', 'barley', 'wine')\n",
    "analogy('earth', 'moon', 'sun')\n",
    "analogy('house', 'roof', 'castle')\n",
    "analogy('building', 'architect', 'software')\n",
    "analogy('boston', 'bruins', 'phoenix')\n",
    "analogy('good', 'heaven', 'bad')\n",
    "analogy('jordan', 'basketball', 'woods')"
   ]
  }
 ],
 "metadata": {
  "kernelspec": {
   "display_name": "Python 3 (ipykernel)",
   "language": "python",
   "name": "python3"
  },
  "language_info": {
   "codemirror_mode": {
    "name": "ipython",
    "version": 3
   },
   "file_extension": ".py",
   "mimetype": "text/x-python",
   "name": "python",
   "nbconvert_exporter": "python",
   "pygments_lexer": "ipython3",
   "version": "3.9.11"
  }
 },
 "nbformat": 4,
 "nbformat_minor": 5
}
